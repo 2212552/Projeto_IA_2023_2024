{
  "cells": [
    {
      "cell_type": "markdown",
      "metadata": {
        "id": "view-in-github",
        "colab_type": "text"
      },
      "source": [
        "<a href=\"https://colab.research.google.com/github/2212552/Projeto_IA_2023_2024/blob/Development_Carlos/main.ipynb\" target=\"_parent\"><img src=\"https://colab.research.google.com/assets/colab-badge.svg\" alt=\"Open In Colab\"/></a>"
      ]
    },
    {
      "cell_type": "code",
      "execution_count": 18,
      "metadata": {
        "colab": {
          "base_uri": "https://localhost:8080/"
        },
        "id": "cR4cGdY82KFK",
        "outputId": "bc3e6177-20c5-4d08-c819-211812e8c08d"
      },
      "outputs": [
        {
          "output_type": "stream",
          "name": "stdout",
          "text": [
            "Drive already mounted at /content/drive/; to attempt to forcibly remount, call drive.mount(\"/content/drive/\", force_remount=True).\n"
          ]
        }
      ],
      "source": [
        "from google.colab import drive\n",
        "drive.mount('/content/drive/')"
      ]
    },
    {
      "cell_type": "markdown",
      "source": [
        "Image directories"
      ],
      "metadata": {
        "id": "G8YcakgN93d4"
      }
    },
    {
      "cell_type": "code",
      "source": [
        "import os, shutil\n",
        "train_dir = '/content/drive/MyDrive/AI/Projeto_AI/'\n",
        "validation_dir = '/content/drive/MyDrive/AI/Projeto_AI/'\n",
        "test_dir = '/content/drive/MyDrive/AI/Projeto_AI/'\n",
        "#Caminhos de treino\n",
        "train_airplane1_dir = '/content/drive/MyDrive/AI/Projeto_AI/train1/000_airplane/'\n",
        "train_airplane2_dir = '/content/drive/MyDrive/AI/Projeto_AI/train2/000_airplane/'\n",
        "train_airplane3_dir = '/content/drive/MyDrive/AI/Projeto_AI/train3/000_airplane/'\n",
        "train_airplane4_dir = '/content/drive/MyDrive/AI/Projeto_AI/train4/000_airplane/'\n",
        "\n",
        "train_automobile1_dir = '/content/drive/MyDrive/AI/Projeto_AI/train1/001_automobile/'\n",
        "train_automobile2_dir = '/content/drive/MyDrive/AI/Projeto_AI/train2/001_automobile/'\n",
        "train_automobile3_dir = '/content/drive/MyDrive/AI/Projeto_AI/train3/001_automobile/'\n",
        "train_automobile4_dir = '/content/drive/MyDrive/AI/Projeto_AI/train4/001_automobile/'\n",
        "\n",
        "train_bird1_dir = '/content/drive/MyDrive/AI/Projeto_AI/train1/002_bird/'\n",
        "train_bird2_dir = '/content/drive/MyDrive/AI/Projeto_AI/train2/002_bird/'\n",
        "train_bird3_dir = '/content/drive/MyDrive/AI/Projeto_AI/train3/002_bird/'\n",
        "train_bird4_dir = '/content/drive/MyDrive/AI/Projeto_AI/train4/002_bird/'\n",
        "\n",
        "train_cat1_dir = '/content/drive/MyDrive/AI/Projeto_AI/train1/003_cat/'\n",
        "train_cat2_dir = '/content/drive/MyDrive/AI/Projeto_AI/train2/003_cat/'\n",
        "train_cat3_dir = '/content/drive/MyDrive/AI/Projeto_AI/train3/003_cat/'\n",
        "train_cat4_dir = '/content/drive/MyDrive/AI/Projeto_AI/train4/003_cat/'\n",
        "\n",
        "train_deer1_dir = '/content/drive/MyDrive/AI/Projeto_AI/train1/004_deer/'\n",
        "train_deer2_dir = '/content/drive/MyDrive/AI/Projeto_AI/train2/004_deer/'\n",
        "train_deer3_dir = '/content/drive/MyDrive/AI/Projeto_AI/train3/004_deer/'\n",
        "train_deer4_dir = '/content/drive/MyDrive/AI/Projeto_AI/train4/004_deer/'\n",
        "\n",
        "train_dog1_dir = '/content/drive/MyDrive/AI/Projeto_AI/train1/005_dog/'\n",
        "train_dog2_dir = '/content/drive/MyDrive/AI/Projeto_AI/train2/005_dog/'\n",
        "train_dog3_dir = '/content/drive/MyDrive/AI/Projeto_AI/train3/005_dog/'\n",
        "train_dog4_dir = '/content/drive/MyDrive/AI/Projeto_AI/train4/005_dog/'\n",
        "\n",
        "train_frog1_dir = '/content/drive/MyDrive/AI/Projeto_AI/train1/006_frog/'\n",
        "train_frog2_dir = '/content/drive/MyDrive/AI/Projeto_AI/train2/006_frog/'\n",
        "train_frog3_dir = '/content/drive/MyDrive/AI/Projeto_AI/train3/006_frog/'\n",
        "train_frog4_dir = '/content/drive/MyDrive/AI/Projeto_AI/train4/006_frog/'\n",
        "\n",
        "train_horse1_dir ='/content/drive/MyDrive/AI/Projeto_AI/train1/007_horse/'\n",
        "train_horse2_dir ='/content/drive/MyDrive/AI/Projeto_AI/train2/007_horse/'\n",
        "train_horse3_dir ='/content/drive/MyDrive/AI/Projeto_AI/train3/007_horse/'\n",
        "train_horse4_dir ='/content/drive/MyDrive/AI/Projeto_AI/train4/007_horse/'\n",
        "\n",
        "train_ship1_dir ='/content/drive/MyDrive/AI/Projeto_AI/train1/008_ship/'\n",
        "train_ship2_dir ='/content/drive/MyDrive/AI/Projeto_AI/train2/008_ship/'\n",
        "train_ship3_dir ='/content/drive/MyDrive/AI/Projeto_AI/train3/008_ship/'\n",
        "train_ship4_dir ='/content/drive/MyDrive/AI/Projeto_AI/train4/008_ship/'\n",
        "\n",
        "train_truck1_dir ='/content/drive/MyDrive/AI/Projeto_AI/train1/009_truck/'\n",
        "train_truck2_dir ='/content/drive/MyDrive/AI/Projeto_AI/train2/009_truck/'\n",
        "train_truck3_dir ='/content/drive/MyDrive/AI/Projeto_AI/train3/009_truck/'\n",
        "train_truck4_dir ='/content/drive/MyDrive/AI/Projeto_AI/train4/009_truck/'\n",
        "#--------------------------------------------------------------------------------\n",
        "#Caminho de Validações\n",
        "\n",
        "val_airplane_dir = '/content/drive/MyDrive/AI/Projeto_AI/train5/000_airplane/'\n",
        "val_automobile_dir = '/content/drive/MyDrive/AI/Projeto_AI/train5/001_automobile/'\n",
        "val_bird_dir = '/content/drive/MyDrive/AI/Projeto_AI/train5/002_bird/'\n",
        "val_cat_dir = '/content/drive/MyDrive/AI/Projeto_AI/train5/003_cat/'\n",
        "val_deer_dir = '/content/drive/MyDrive/AI/Projeto_AI/train5/004_deer/'\n",
        "val_dog_dir = '/content/drive/MyDrive/AI/Projeto_AI/train5/005_dog/'\n",
        "val_frog_dir = '/content/drive/MyDrive/AI/Projeto_AI/train5/006_frog/'\n",
        "val_horse_dir ='/content/drive/MyDrive/AI/Projeto_AI/train5/007_horse/'\n",
        "val_ship_dir ='/content/drive/MyDrive/AI/Projeto_AI/train5/008_ship/'\n",
        "val_truck_dir ='/content/drive/MyDrive/AI/Projeto_AI/train5/009_truck/'\n",
        "#-------------------------------------------------------------------------------\n",
        "#Caminho de testes\n",
        "\n",
        "\n",
        "test_airplane_dir = '/content/drive/MyDrive/AI/Projeto_AI/train1/000_airplane/'\n",
        "test_automobile_dir = '/content/drive/MyDrive/AI/Projeto_AI/train1/001_automobile/'\n",
        "test_bird_dir = '/content/drive/MyDrive/AI/Projeto_AI/train1/002_bird/'\n",
        "test_cat_dir = '/content/drive/MyDrive/AI/Projeto_AI/train1/003_cat/'\n",
        "test_deer_dir = '/content/drive/MyDrive/AI/Projeto_AI/train1/004_deer/'\n",
        "test_dog_dir = '/content/drive/MyDrive/AI/Projeto_AI/train1/005_dog/'\n",
        "test_frog_dir = '/content/drive/MyDrive/AI/Projeto_AI/train1/006_frog/'\n",
        "test_horse_dir ='/content/drive/MyDrive/AI/Projeto_AI/train1/007_horse/'\n",
        "test_ship_dir ='/content/drive/MyDrive/AI/Projeto_AI/train1/008_ship/'\n",
        "test_truck_dir ='/content/drive/MyDrive/AI/Projeto_AI/train1/009_truck/'\n",
        "#-------------------------------------------------------------------------------------\n",
        "#Numero de Treinos\n",
        "\n",
        "print('total training airplanes images:', len(os.listdir(train_airplane1_dir+train_airplane2_dir+train_airplane3_dir+train_airplane4_dir)))\n",
        "print('total training automobiles images:', len(os.listdir(train_automobile1_dir+train_automobile2_dir+train_automobile3_dir+train_automobile4_dir)))\n",
        "print('total training birds images:', len(os.listdir(train_bird1_dir+train_bird2_dir+train_bird3_dir+train_airplane4_dir)))\n",
        "print('total training cats images:', len(os.listdir(train_cat1_dir+train_cat2_dir+train_cat3_dir+train_cat4_dir)))\n",
        "print('total training deers images:', len(os.listdir(train_deer1_dir+train_deer2_dir+train_deer3_dir+train_deer4_dir)))\n",
        "print('total training dogs images:', len(os.listdir(train_dog1_dir+train_dog2_dir+train_dog3_dir+train_dog4_dir)))\n",
        "print('total training frogs images:', len(os.listdir(train_frog1_dir+train_frog2_dir+train_frog3_dir+train_frog4_dir)))\n",
        "print('total training horses images:', len(os.listdir(train_horse1_dir+train_horse2_dir+train_horse3_dir+train_horse4_dir)))\n",
        "print('total training ships images:', len(os.listdir(train_ship1_dir+train_ship2_dir+train_ship3_dir+train_ship4_dir)))\n",
        "print('total training trucks images:', len(os.listdir(train_truck1_dir+train_truck2_dir+train_truck3_dir+train_truck4_dir)))\n",
        "#---------------------------------------------------------------------------------\n",
        "#Numero de validações\n",
        "\n",
        "print('total validation airplanes images:', len(os.listdir(val_airplane_dir)))\n",
        "print('total validation automobiles images:', len(os.listdir(val_automobile_dir)))\n",
        "print('total validation birds images:', len(os.listdir(val_bird_dir)))\n",
        "print('total validation cats images:', len(os.listdir(val_cat_dir)))\n",
        "print('total validation deers images:', len(os.listdir(val_deer_dir)))\n",
        "print('total validation dogs images:', len(os.listdir(val_dog_dir)))\n",
        "print('total validation frogs images:', len(os.listdir(val_frog_dir)))\n",
        "print('total validation horses images:', len(os.listdir(val_horse_dir)))\n",
        "print('total validation ships images:', len(os.listdir(val_ship_dir)))\n",
        "print('total validation trucks images:', len(os.listdir(val_truck_dir)))\n",
        "#----------------------------------------------------------------------------------\n",
        "#Numero de testes\n",
        "\n",
        "print('total testing airplanes images:', len(os.listdir(test_airplane_dir)))\n",
        "print('total testing automobiles images:', len(os.listdir(test_automobile_dir)))\n",
        "print('total testing birds images:', len(os.listdir(test_bird_dir)))\n",
        "print('total testing cats images:', len(os.listdir(test_cat_dir)))\n",
        "print('total testing deers images:', len(os.listdir(test_deer_dir)))\n",
        "print('total testing dogs images:', len(os.listdir(test_dog_dir)))\n",
        "print('total testing frogs images:', len(os.listdir(test_frog_dir)))\n",
        "print('total testing horses images:', len(os.listdir(test_horse_dir)))\n",
        "print('total testing ships images:', len(os.listdir(test_ship_dir)))\n",
        "print('total testing trucks images:', len(os.listdir(test_truck_dir)))\n",
        "\n"
      ],
      "metadata": {
        "id": "Md7-Sdmx92md"
      },
      "execution_count": null,
      "outputs": []
    },
    {
      "cell_type": "markdown",
      "source": [
        "Pre Processamento data"
      ],
      "metadata": {
        "id": "1yQd8WrLPR9G"
      }
    },
    {
      "cell_type": "code",
      "source": [
        "from keras.utils import image_dataset_from_directory\n",
        "IMG_SIZE = 150\n",
        "train_dataset = image_dataset_from_directory(\n",
        "train_dir,\n",
        "image_size=(IMG_SIZE, IMG_SIZE),\n",
        "batch_size=32)\n",
        "validation_dataset = image_dataset_from_directory(\n",
        "validation_dir,\n",
        "image_size=(IMG_SIZE, IMG_SIZE),\n",
        "batch_size=32)\n",
        "test_dataset = image_dataset_from_directory(\n",
        "test_dir,\n",
        "image_size=(IMG_SIZE, IMG_SIZE),\n",
        "batch_size=32)"
      ],
      "metadata": {
        "id": "i2mH02BqO3zf"
      },
      "execution_count": null,
      "outputs": []
    },
    {
      "cell_type": "code",
      "source": [
        "for data_batch, labels_batch in train_dataset:\n",
        "  print('data batch shape:', data_batch.shape)\n",
        "  print('labels batch shape:', labels_batch.shape)\n",
        "  break"
      ],
      "metadata": {
        "id": "7kAv1Qr4PYqb"
      },
      "execution_count": null,
      "outputs": []
    },
    {
      "cell_type": "markdown",
      "source": [
        "Mostra imagens"
      ],
      "metadata": {
        "id": "FFY_QilJQv_P"
      }
    },
    {
      "cell_type": "code",
      "source": [
        "import matplotlib.pyplot as plt\n",
        "for data_batch, _ in train_dataset.take(1):\n",
        "  for i in range(5):\n",
        "    plt.imshow(data_batch[i].numpy().astype(\"uint8\"))\n",
        "    plt.show()"
      ],
      "metadata": {
        "id": "T6mqxUcMQb2c"
      },
      "execution_count": null,
      "outputs": []
    },
    {
      "cell_type": "markdown",
      "source": [
        "Cria o modelo neuronal"
      ],
      "metadata": {
        "id": "8Rt2cz2fQyIk"
      }
    },
    {
      "cell_type": "code",
      "source": [
        "from tensorflow import keras\n",
        "from keras import layers\n",
        "from keras import models\n",
        "inputs = keras.Input(shape=(IMG_SIZE, IMG_SIZE, 3))\n",
        "x = layers.Rescaling(1./255)(inputs)\n",
        "x = layers.Conv2D(filters=32, kernel_size=3, activation=\"relu\")(x)\n",
        "x = layers.MaxPooling2D(pool_size=2)(x)\n",
        "x = layers.Conv2D(filters=64, kernel_size=3, activation=\"relu\")(x)\n",
        "x = layers.MaxPooling2D(pool_size=2)(x)\n",
        "x = layers.Conv2D(filters=128, kernel_size=3, activation=\"relu\")(x)\n",
        "x = layers.MaxPooling2D(pool_size=2)(x)\n",
        "x = layers.Conv2D(filters=128, kernel_size=3, activation=\"relu\")(x)\n",
        "x = layers.MaxPooling2D(pool_size=2)(x)\n",
        "x = layers.Flatten()(x)\n",
        "x = layers.Dense(512, activation=\"relu\")(x)\n",
        "outputs = layers.Dense(1, activation=\"sigmoid\")(x)\n",
        "model = keras.Model(inputs=inputs, outputs=outputs)"
      ],
      "metadata": {
        "id": "DcXSv_ukQgdK"
      },
      "execution_count": null,
      "outputs": []
    },
    {
      "cell_type": "markdown",
      "source": [
        "Compila a rede neuronal"
      ],
      "metadata": {
        "id": "y3obr0riRHAK"
      }
    },
    {
      "cell_type": "code",
      "source": [
        "import tensorflow as tf\n",
        "model.compile(\n",
        "loss='binary_crossentropy',\n",
        "optimizer=tf.keras.optimizers.RMSprop(learning_rate=1e-4),metrics=['acc'])"
      ],
      "metadata": {
        "id": "miiBCpjgRGXI"
      },
      "execution_count": null,
      "outputs": []
    },
    {
      "cell_type": "markdown",
      "source": [
        "Treina o modelo"
      ],
      "metadata": {
        "id": "3WFQoWhYRKrh"
      }
    },
    {
      "cell_type": "code",
      "source": [
        "history = model.fit(\n",
        "train_dataset,\n",
        "epochs=100,\n",
        "validation_data=validation_dataset)"
      ],
      "metadata": {
        "id": "S14XBTEvRMMQ"
      },
      "execution_count": null,
      "outputs": []
    },
    {
      "cell_type": "code",
      "source": [
        "from tensorflow import keras\n",
        "model = keras.models.load_model('/content/drive/MyDrive/AI/Projeto_AI.h5')\n",
        "--------------------------\n",
        "val_loss, val_acc = model.evaluate(validation_dataset)\n",
        "print('val_acc:', val_acc)"
      ],
      "metadata": {
        "id": "PJ81fMzNRcBU"
      },
      "execution_count": null,
      "outputs": []
    },
    {
      "cell_type": "markdown",
      "source": [
        "Mostra o grafico do progresso"
      ],
      "metadata": {
        "id": "JkKXp9bISHlk"
      }
    },
    {
      "cell_type": "code",
      "source": [
        "import matplotlib.pyplot as plt\n",
        "acc = history.history['acc']\n",
        "val_acc = history.history['val_acc']\n",
        "loss = history.history['loss']\n",
        "val_loss = history.history['val_loss']\n",
        "epochs = range(1, len(acc) + 1)\n",
        "plt.plot(epochs, acc, 'bo', label='Training acc')\n",
        "plt.plot(epochs, val_acc, 'b', label='Validation acc')\n",
        "plt.title('Training and validation accuracy')\n",
        "plt.legend()\n",
        "plt.figure()\n",
        "plt.plot(epochs, loss, 'bo', label='Training loss')\n",
        "plt.plot(epochs, val_loss, 'b', label='Validation loss')\n",
        "plt.title('Training and validation loss')\n",
        "plt.legend()\n",
        "plt.show()"
      ],
      "metadata": {
        "id": "vY1rcLfKSCXD"
      },
      "execution_count": null,
      "outputs": []
    }
  ],
  "metadata": {
    "language_info": {
      "name": "python"
    },
    "colab": {
      "provenance": [],
      "include_colab_link": true
    },
    "kernelspec": {
      "name": "python3",
      "display_name": "Python 3"
    }
  },
  "nbformat": 4,
  "nbformat_minor": 0
}